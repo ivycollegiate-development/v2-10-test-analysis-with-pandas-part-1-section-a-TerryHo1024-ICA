{
 "cells": [
  {
   "cell_type": "code",
   "execution_count": null,
   "metadata": {},
   "outputs": [],
   "source": [
    "# pandas is a data manipulation library - we import it as pd by convention\n",
    "import pandas as pd\n",
    "\n",
    "# matplotlib is for creating visualizations - we import pyplot as plt by convention\n",
    "import matplotlib.pyplot as plt\n",
    "\n",
    "# read_csv() is a pandas function that loads data from a CSV file into a DataFrame\n",
    "df = pd.read_csv('Pandas_Lesson_Grades.csv')\n",
    "# Display first 5 rows\n",
    "print(\"First 5 rows:\")\n",
    "print(df.head())\n",
    "\n",
    "# Display basic information about the DataFrame\n",
    "print(\"\\nDataFrame information:\")\n",
    "print(df.info())\n",
    "\n",
    "# Display summary statistics\n",
    "print(\"\\nSummary statistics:\")\n",
    "print(df.describe())\n"
   ]
  }
 ],
 "metadata": {
  "language_info": {
   "name": "python"
  }
 },
 "nbformat": 4,
 "nbformat_minor": 2
}
